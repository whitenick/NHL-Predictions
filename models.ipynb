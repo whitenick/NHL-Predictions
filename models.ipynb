{
 "nbformat": 4,
 "nbformat_minor": 2,
 "metadata": {
  "language_info": {
   "name": "python",
   "codemirror_mode": {
    "name": "ipython",
    "version": 3
   },
   "version": "3.7.4-final"
  },
  "orig_nbformat": 2,
  "file_extension": ".py",
  "mimetype": "text/x-python",
  "name": "python",
  "npconvert_exporter": "python",
  "pygments_lexer": "ipython3",
  "version": 3,
  "kernelspec": {
   "name": "python3",
   "display_name": "Python 3"
  }
 },
 "cells": [
  {
   "cell_type": "code",
   "execution_count": 426,
   "metadata": {},
   "outputs": [],
   "source": [
    "import pandas as pd\n",
    "import requests\n",
    "import json\n",
    "import xgboost as xgb\n",
    "from sklearn.metrics import accuracy_score\n",
    "from datetime import datetime\n",
    "\n",
    "games_df = pd.read_csv('nhl_games_2019.csv', index_col=0)"
   ]
  },
  {
   "cell_type": "code",
   "execution_count": 427,
   "metadata": {},
   "outputs": [
    {
     "name": "stdout",
     "output_type": "stream",
     "text": "Int64Index([2038, 2039, 2040, 2041, 2042, 2043, 2044, 2045, 2046, 2047,\n            ...\n            2532, 2533, 2534, 2535, 2536, 2537, 2538, 2539, 2540, 2541],\n           dtype='int64', length=504)\n"
    }
   ],
   "source": [
    "games_df = games_df.drop(['gameDate', 'venue', 'gamePk', 'link', 'gameType', 'status', 'teams', 'content', 'season'], axis=1)\n",
    "games_df = games_df.reset_index()\n",
    "\n",
    "print (games_df[games_df['Total_Goals'] == 0].index)\n",
    "games_df = games_df.drop(games_df[games_df['Total_Goals'] == 0].index, axis=0)\n",
    "\n",
    "games_df = games_df.drop(['index'], axis=1)"
   ]
  },
  {
   "cell_type": "code",
   "execution_count": 428,
   "metadata": {},
   "outputs": [
    {
     "data": {
      "text/html": "<div>\n<style scoped>\n    .dataframe tbody tr th:only-of-type {\n        vertical-align: middle;\n    }\n\n    .dataframe tbody tr th {\n        vertical-align: top;\n    }\n\n    .dataframe thead th {\n        text-align: right;\n    }\n</style>\n<table border=\"1\" class=\"dataframe\">\n  <thead>\n    <tr style=\"text-align: right;\">\n      <th></th>\n      <th>Away_Team_ID</th>\n      <th>Home_Team_ID</th>\n      <th>Away_Team_Wins</th>\n      <th>Away_Team_Losses</th>\n      <th>Home_Team_Wins</th>\n      <th>Home_Team_Losses</th>\n      <th>Total_Goals</th>\n    </tr>\n  </thead>\n  <tbody>\n    <tr>\n      <td>0</td>\n      <td>8</td>\n      <td>10</td>\n      <td>0</td>\n      <td>0</td>\n      <td>1</td>\n      <td>0</td>\n      <td>5</td>\n    </tr>\n    <tr>\n      <td>1</td>\n      <td>6</td>\n      <td>15</td>\n      <td>0</td>\n      <td>1</td>\n      <td>1</td>\n      <td>0</td>\n      <td>7</td>\n    </tr>\n    <tr>\n      <td>2</td>\n      <td>20</td>\n      <td>23</td>\n      <td>0</td>\n      <td>1</td>\n      <td>1</td>\n      <td>0</td>\n      <td>7</td>\n    </tr>\n    <tr>\n      <td>3</td>\n      <td>24</td>\n      <td>28</td>\n      <td>1</td>\n      <td>0</td>\n      <td>0</td>\n      <td>1</td>\n      <td>7</td>\n    </tr>\n    <tr>\n      <td>4</td>\n      <td>6</td>\n      <td>7</td>\n      <td>1</td>\n      <td>1</td>\n      <td>0</td>\n      <td>1</td>\n      <td>4</td>\n    </tr>\n    <tr>\n      <td>...</td>\n      <td>...</td>\n      <td>...</td>\n      <td>...</td>\n      <td>...</td>\n      <td>...</td>\n      <td>...</td>\n      <td>...</td>\n    </tr>\n    <tr>\n      <td>2033</td>\n      <td>52</td>\n      <td>12</td>\n      <td>25</td>\n      <td>21</td>\n      <td>29</td>\n      <td>18</td>\n      <td>5</td>\n    </tr>\n    <tr>\n      <td>2034</td>\n      <td>5</td>\n      <td>4</td>\n      <td>31</td>\n      <td>14</td>\n      <td>27</td>\n      <td>17</td>\n      <td>3</td>\n    </tr>\n    <tr>\n      <td>2035</td>\n      <td>13</td>\n      <td>16</td>\n      <td>28</td>\n      <td>16</td>\n      <td>24</td>\n      <td>21</td>\n      <td>7</td>\n    </tr>\n    <tr>\n      <td>2036</td>\n      <td>52</td>\n      <td>29</td>\n      <td>25</td>\n      <td>22</td>\n      <td>27</td>\n      <td>16</td>\n      <td>7</td>\n    </tr>\n    <tr>\n      <td>2037</td>\n      <td>17</td>\n      <td>30</td>\n      <td>12</td>\n      <td>35</td>\n      <td>23</td>\n      <td>21</td>\n      <td>6</td>\n    </tr>\n  </tbody>\n</table>\n<p>2038 rows × 7 columns</p>\n</div>",
      "text/plain": "      Away_Team_ID  Home_Team_ID  Away_Team_Wins  Away_Team_Losses  \\\n0                8            10               0                 0   \n1                6            15               0                 1   \n2               20            23               0                 1   \n3               24            28               1                 0   \n4                6             7               1                 1   \n...            ...           ...             ...               ...   \n2033            52            12              25                21   \n2034             5             4              31                14   \n2035            13            16              28                16   \n2036            52            29              25                22   \n2037            17            30              12                35   \n\n      Home_Team_Wins  Home_Team_Losses  Total_Goals  \n0                  1                 0            5  \n1                  1                 0            7  \n2                  1                 0            7  \n3                  0                 1            7  \n4                  0                 1            4  \n...              ...               ...          ...  \n2033              29                18            5  \n2034              27                17            3  \n2035              24                21            7  \n2036              27                16            7  \n2037              23                21            6  \n\n[2038 rows x 7 columns]"
     },
     "execution_count": 428,
     "metadata": {},
     "output_type": "execute_result"
    }
   ],
   "source": [
    "games_df"
   ]
  },
  {
   "cell_type": "code",
   "execution_count": 429,
   "metadata": {},
   "outputs": [],
   "source": [
    "\n",
    "#max_depth = 6, min_child_weight = 6, 0.01, 672: 0.494873817035\n",
    "def get_xgb_params():\n",
    "    params = {}\n",
    "    params['objective'] = 'multi:softmax'\n",
    "    params['silent'] = 0\n",
    "        \n",
    "    #params['learning_rate'], params['n_estimators'] = 0.1, 92\n",
    "    #params['learning_rate'], params['n_estimators'] = 0.05, 209\n",
    "    #params['learning_rate'], params['n_estimators'] = 0.01, 210\n",
    "    \n",
    "    params['learning_rate'], params['n_estimators'] = 0.1, 92\n",
    "    params['max_depth'], params['min_child_weight'] = 10, 10\n",
    "    params['gamma'] = 4.3\n",
    "    params['colsample_bytree'], params['subsample'] = 0.7,0.75\n",
    "    params['reg_alpha'] = 1e-5\n",
    "    return params"
   ]
  },
  {
   "cell_type": "code",
   "execution_count": 430,
   "metadata": {},
   "outputs": [],
   "source": [
    "data_train = games_df[:1000]\n",
    "data_test = games_df[1000:]\n",
    "\n",
    "X_train = data_train.drop(\"Total_Goals\", axis=1)\n",
    "Y_train = data_train.Total_Goals\n",
    "X_test = data_test.drop(\"Total_Goals\", axis=1)\n",
    "Y_test = data_test.Total_Goals"
   ]
  },
  {
   "cell_type": "code",
   "execution_count": 431,
   "metadata": {},
   "outputs": [
    {
     "name": "stdout",
     "output_type": "stream",
     "text": "0.21483622350674375\n"
    }
   ],
   "source": [
    "classifier = xgb.XGBClassifier(**get_xgb_params())\n",
    "\n",
    "classifier.fit(X_train, Y_train)\n",
    "y_pred = classifier.predict(X_test)\n",
    "\n",
    "print (accuracy_score(y_true=Y_test, y_pred=y_pred))\n"
   ]
  }
 ]
}